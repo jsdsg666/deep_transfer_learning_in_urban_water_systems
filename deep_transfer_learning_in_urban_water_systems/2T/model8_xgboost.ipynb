{
 "cells": [
  {
   "cell_type": "code",
   "execution_count": null,
   "metadata": {
    "collapsed": true,
    "ExecuteTime": {
     "start_time": "2023-08-28T21:15:01.900523Z",
     "end_time": "2023-08-28T21:15:03.261140Z"
    }
   },
   "outputs": [],
   "source": [
    "import warnings\n",
    "warnings.filterwarnings(\"ignore\")\n",
    "import numpy as np\n",
    "import pandas as pd\n",
    "pd.set_option('display.max_columns', None)\n",
    "pd.set_option('display.max_rows', None)\n",
    "%matplotlib inline\n",
    "import  matplotlib.pyplot as plt\n",
    "import joblib\n",
    "from sklearn.metrics import mean_absolute_percentage_error\n",
    "import random\n",
    "import torch\n",
    "import os\n",
    "\n",
    "def seed_everything(seed):\n",
    "    random.seed(seed)\n",
    "    os.environ['PYTHONHASHSEED'] = str(seed)\n",
    "    np.random.seed(seed)\n",
    "    torch.manual_seed(seed)\n",
    "    torch.cuda.manual_seed(seed)\n",
    "    torch.cuda.manual_seed_all(seed)\n",
    "    torch.backends.cudnn.deterministic = True\n",
    "seed_everything(seed=521)"
   ]
  },
  {
   "cell_type": "code",
   "execution_count": null,
   "outputs": [],
   "source": [
    "train= pd.read_excel('./dataset/train.xlsx')\n",
    "test= pd.read_excel('./dataset/test.xlsx')\n",
    "Y_columns =['TNeff']\n",
    "X_columns = [col for col in train.columns if col not in ['time','TNeff']]\n",
    "\n",
    "\n",
    "x_train=train[X_columns]\n",
    "x_test=test[X_columns]\n",
    "y_train=train[Y_columns]\n",
    "y_test=test[Y_columns]"
   ],
   "metadata": {
    "collapsed": false,
    "ExecuteTime": {
     "start_time": "2023-08-28T21:15:03.262137Z",
     "end_time": "2023-08-28T21:15:04.617883Z"
    }
   }
  },
  {
   "cell_type": "code",
   "execution_count": null,
   "outputs": [],
   "source": [
    "# data = pd.concat([train, test], axis=0)\n",
    "# x=data.iloc[:,1:-1]\n",
    "# y=data.iloc[:,-1]\n",
    "# from sklearn.preprocessing import MinMaxScaler\n",
    "#\n",
    "# scaler1=MinMaxScaler(feature_range=(0.000000001,1))\n",
    "# scaler2=MinMaxScaler(feature_range=(0.000000001,1))\n",
    "# scaler3=MinMaxScaler(feature_range=(0.000000001,1))\n",
    "# scaler4=MinMaxScaler(feature_range=(0.000000001,1))\n",
    "#\n",
    "#\n",
    "#\n",
    "# x_train=scaler1.fit_transform(train[X_columns])\n",
    "# y_train=scaler2.fit_transform(train[Y_columns])\n",
    "# x_test=scaler3.fit_transform(test[X_columns])\n",
    "# y_test=scaler4.fit_transform(test[Y_columns])"
   ],
   "metadata": {
    "collapsed": false,
    "ExecuteTime": {
     "start_time": "2023-08-28T21:15:04.617883Z",
     "end_time": "2023-08-28T21:15:04.620876Z"
    }
   }
  },
  {
   "cell_type": "code",
   "execution_count": null,
   "outputs": [],
   "source": [
    "# data = pd.concat([train, test], axis=0)\n",
    "#\n",
    "# roll_cols = [\"Fin\",\"Tin\",\"CODin\",\"TNin\",\"NH3in\",\"DOain\",\"NH4a\",\"NO3a\",\"MLSSa\",\"DOaeff\",\"NH4m\",\"NO3m\"]\n",
    "# for i in [j for j in range(1, 6)] + [12, 24, 48, 60]:\n",
    "#     # data[[ii+f'_delta_{i}' for ii in roll_cols]] = data[roll_cols].diff(periods=i)\n",
    "#     data[[ii+f'_mean_{i}' for ii in roll_cols]] = data[roll_cols].rolling(i, min_periods=1).mean()\n",
    "#\n",
    "# pd.set_option(\"display.max_columns\", 100)\n",
    "# save_rate = 0.5\n",
    "# data = data[data.describe().T.sort_values(by=\"std\", ascending=False, inplace=False).iloc[: int(len(data.columns)*save_rate)].index.tolist()]\n",
    "#\n",
    "# train = data.iloc[:train.shape[0]].reset_index(drop=True)\n",
    "# test = data.iloc[train.shape[0]:].reset_index(drop=True)"
   ],
   "metadata": {
    "collapsed": false,
    "ExecuteTime": {
     "start_time": "2023-08-28T21:15:04.621871Z",
     "end_time": "2023-08-28T21:15:04.624862Z"
    }
   }
  },
  {
   "cell_type": "code",
   "execution_count": null,
   "outputs": [],
   "source": [
    "import xgboost as xgb\n",
    "model =xgb.XGBRegressor(n_estimators=200,max_depth=10) # 逻辑回归\n",
    "\n",
    "lossmin=1\n",
    "for i in range(100):\n",
    "    model.fit(x_train,y_train)\n",
    "    y_pred = model.predict(x_test)\n",
    "    loss=mean_absolute_percentage_error(y_test, y_pred)\n",
    "    print(f'*****************epoch{i} MAPE {loss}')\n",
    "\n",
    "    if loss<1 and loss<lossmin:\n",
    "        lossmin=loss\n",
    "        joblib.dump(model, './mpkl/m8_xgboost_.pkl')\n",
    "\n",
    "model= joblib.load('./mpkl/m8_xgboost_.pkl')\n",
    "y_pred = model.predict(x_test)\n",
    "loss=mean_absolute_percentage_error(y_test, y_pred)\n",
    "print(f'***************************************************')\n",
    "print('MAPE:', loss)\n",
    "y_train_pred=model.predict(x_train)"
   ],
   "metadata": {
    "collapsed": false,
    "ExecuteTime": {
     "start_time": "2023-08-28T21:15:04.626361Z",
     "end_time": "2023-08-28T21:16:43.350582Z"
    }
   }
  },
  {
   "cell_type": "code",
   "execution_count": null,
   "outputs": [],
   "source": [
    "# y_train=scaler2.inverse_transform(y_train)\n",
    "# y_train_pred=scaler2.inverse_transform(y_train_pred)\n",
    "#\n",
    "#\n",
    "# y_test=scaler4.inverse_transform(y_test)\n",
    "# y_pred=scaler4.inverse_transform(y_pred)"
   ],
   "metadata": {
    "collapsed": false,
    "ExecuteTime": {
     "start_time": "2023-08-28T21:16:43.351579Z",
     "end_time": "2023-08-28T21:16:43.354772Z"
    }
   }
  },
  {
   "cell_type": "code",
   "execution_count": null,
   "outputs": [],
   "source": [
    "import seaborn as sns\n",
    "sns.set(context='paper', style='ticks')\n",
    "\n",
    "fig,axes=plt.subplots(2,1,figsize=(20,10))\n",
    "ax1=axes[0]\n",
    "ax2=axes[1]\n",
    "fig.subplots_adjust(left=0.1, right=0.8, bottom=0.1, top=0.9, wspace=0.2, hspace=0.3)\n",
    "\n",
    "\n",
    "# x=train_index[::32]\n",
    "# y1=y_train['AQ'][::32]\n",
    "# y2=y_train_pred['AQ'][::32]\n",
    "lns1=ax1.plot(y_train[:],label='y_train',marker='v',markevery=1, color='lightcoral')\n",
    "lns2=ax1.plot(y_train_pred[:],label='y_train_pred',marker='D',markevery=1, color='dodgerblue')\n",
    "ax1.tick_params(labelsize=12)\n",
    "# ax1.set_xlim(0,14208,2000)\n",
    "# ax1.set_ylim(0,35000, 5000)\n",
    "# ax1.set_xlabel('Timeindex(8h)',size=20)\n",
    "# ax1.set_ylabel('AQ(m³/h)',size=20)\n",
    "ax1.set_title('m1_ridge',size=20,fontweight='bold',loc='left')\n",
    "lns = lns1+lns2\n",
    "labs = [l.get_label() for l in lns]\n",
    "ax1.legend(lns, labs, loc=1,fontsize=12,ncol=2,frameon=False)\n",
    "\n",
    "\n",
    "\n",
    "lns1=ax2.plot(y_test[:],label='y_test',marker='v',markevery=1, color='lightcoral')\n",
    "lns2=ax2.plot(y_pred[:],label='y_test_pred',marker='D',markevery=1, color='dodgerblue')\n",
    "ax2.tick_params(labelsize=12)\n",
    "# ax1.set_xlim(0,14208,2000)\n",
    "# ax1.set_ylim(0,35000, 5000)\n",
    "# ax1.set_xlabel('Timeindex(8h)',size=20)\n",
    "# ax1.set_ylabel('AQ(m³/h)',size=20)\n",
    "ax2.set_title('m1_ridge',size=20,fontweight='bold',loc='left')\n",
    "lns = lns1+lns2\n",
    "labs = [l.get_label() for l in lns]\n",
    "ax2.legend(lns, labs, loc=1,fontsize=12,ncol=2,frameon=False)\n",
    "\n",
    "\n"
   ],
   "metadata": {
    "collapsed": false,
    "ExecuteTime": {
     "start_time": "2023-08-28T21:16:43.354772Z",
     "end_time": "2023-08-28T21:16:43.784359Z"
    }
   }
  },
  {
   "cell_type": "code",
   "execution_count": null,
   "outputs": [],
   "source": [
    "frame=pd.DataFrame()\n",
    "frame['ytrain']=pd.DataFrame(y_train_pred)\n",
    "frame['ytest']=pd.DataFrame(y_pred)\n",
    "frame.to_excel('./modelresult/m08_xgboost.xlsx')"
   ],
   "metadata": {
    "collapsed": false,
    "ExecuteTime": {
     "start_time": "2023-08-28T21:16:43.785861Z",
     "end_time": "2023-08-28T21:16:44.569010Z"
    }
   }
  },
  {
   "cell_type": "code",
   "execution_count": null,
   "outputs": [],
   "source": [],
   "metadata": {
    "collapsed": false,
    "ExecuteTime": {
     "start_time": "2023-08-28T21:16:44.569010Z",
     "end_time": "2023-08-28T21:16:44.572000Z"
    }
   }
  }
 ],
 "metadata": {
  "kernelspec": {
   "display_name": "Python 3",
   "language": "python",
   "name": "python3"
  },
  "language_info": {
   "codemirror_mode": {
    "name": "ipython",
    "version": 2
   },
   "file_extension": ".py",
   "mimetype": "text/x-python",
   "name": "python",
   "nbconvert_exporter": "python",
   "pygments_lexer": "ipython2",
   "version": "2.7.6"
  }
 },
 "nbformat": 4,
 "nbformat_minor": 0
}
