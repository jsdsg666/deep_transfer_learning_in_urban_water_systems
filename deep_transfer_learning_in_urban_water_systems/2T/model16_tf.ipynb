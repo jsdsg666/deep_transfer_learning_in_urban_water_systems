{
 "cells": [
  {
   "cell_type": "code",
   "execution_count": null,
   "metadata": {
    "collapsed": true,
    "ExecuteTime": {
     "start_time": "2023-08-28T21:46:43.629367Z",
     "end_time": "2023-08-28T21:46:46.256467Z"
    }
   },
   "outputs": [],
   "source": [
    "%matplotlib inline\n",
    "import pathlib\n",
    "import warnings\n",
    "import math\n",
    "import matplotlib.pyplot as plt\n",
    "import numpy as np\n",
    "import pandas as pd\n",
    "import torch\n",
    "from sklearn.metrics import mean_absolute_percentage_error\n",
    "from sklearn.preprocessing import MinMaxScaler\n",
    "from torch import nn\n",
    "from torch.utils import data\n",
    "import random\n",
    "import os\n",
    "\n",
    "\n",
    "warnings.filterwarnings(\"ignore\")\n",
    "pd.set_option('display.max_columns', None)\n",
    "pd.set_option('display.max_rows', None)\n",
    "\n",
    "def seed_everything(seed):\n",
    "    random.seed(seed)\n",
    "    os.environ['PYTHONHASHSEED'] = str(seed)\n",
    "    np.random.seed(seed)\n",
    "    torch.manual_seed(seed)\n",
    "    torch.cuda.manual_seed(seed)\n",
    "    torch.cuda.manual_seed_all(seed)\n",
    "    torch.backends.cudnn.deterministic = True\n",
    "seed_everything(seed=521)"
   ]
  },
  {
   "cell_type": "code",
   "execution_count": null,
   "outputs": [],
   "source": [
    "seq = 32\n",
    "hidden_size = 32\n",
    "num_layers = 8\n",
    "batch_size = 32\n",
    "epochs = 100"
   ],
   "metadata": {
    "collapsed": false,
    "ExecuteTime": {
     "start_time": "2023-08-28T21:46:46.256467Z",
     "end_time": "2023-08-28T21:46:46.260456Z"
    }
   }
  },
  {
   "cell_type": "markdown",
   "source": [],
   "metadata": {
    "collapsed": false
   }
  },
  {
   "cell_type": "code",
   "execution_count": null,
   "outputs": [],
   "source": [
    "device = torch.device(\"cuda:0\" if torch.cuda.is_available() else \"cpu\")\n",
    "print(\"*********************\")\n",
    "print(torch.cuda.get_device_name(0))\n",
    "print(device)"
   ],
   "metadata": {
    "collapsed": false,
    "ExecuteTime": {
     "start_time": "2023-08-28T21:46:46.261452Z",
     "end_time": "2023-08-28T21:46:46.289073Z"
    }
   }
  },
  {
   "cell_type": "code",
   "execution_count": null,
   "outputs": [],
   "source": [
    "def load_data():\n",
    "    train = pd.read_excel('./dataset/train.xlsx')\n",
    "    test = pd.read_excel('./dataset/test.xlsx')\n",
    "\n",
    "    time_columns=['time']\n",
    "    X_columns = [col for col in train.columns if col not in ['time','TNeff']]\n",
    "    Y_columns =['TNeff']\n",
    "\n",
    "    x_train = train[X_columns]\n",
    "    y_train = train[Y_columns]\n",
    "    x_test = test[X_columns]\n",
    "    y_test = test[Y_columns]\n",
    "    return x_train, y_train, x_test, y_test, X_columns, Y_columns\n",
    "\n",
    "\n",
    "def split_data(train_sca, test_sca, seq, X_columns, Y_columns):  # 47预测1\n",
    "    data_raw = pd.concat([train_sca, test_sca])\n",
    "\n",
    "    data = []\n",
    "    for index in range(len(data_raw) - seq):\n",
    "        data.append(data_raw[index:index + seq])\n",
    "    data = np.array(data)\n",
    "    # print(len(data))  #14640\n",
    "    test_set_size = len(test_sca)  # 96\n",
    "    train_set_size = data.shape[0] - test_set_size\n",
    "\n",
    "    # 第一个-1是47预测1\n",
    "    # 第二个1是不计time，-1是只预测AQ\n",
    "    x_train = data[:train_set_size, :-1, :len(X_columns)].astype('float32')\n",
    "    y_train = data[:train_set_size, -1, -len(Y_columns)].reshape(-1, len(Y_columns)).astype('float32')\n",
    "\n",
    "    x_test = data[train_set_size:, :-1, :len(X_columns)].astype('float32')\n",
    "    y_test = data[train_set_size:, -1, -len(Y_columns)].reshape(-1, len(Y_columns)).astype('float32')\n",
    "\n",
    "    return torch.tensor(x_train), torch.tensor(y_train), torch.tensor(x_test), torch.tensor(y_test)\n",
    "\n",
    "\n",
    "def preprocess(x_train, y_train, x_test, y_test, X_columns, Y_columns):\n",
    "    scaler1 = MinMaxScaler(feature_range=(0.000000001, 1))\n",
    "    scaler2 = MinMaxScaler(feature_range=(0.000000001, 1))\n",
    "    scaler3 = MinMaxScaler(feature_range=(0.000000001, 1))\n",
    "    scaler4 = MinMaxScaler(feature_range=(0.000000001, 1))\n",
    "    train_sca = pd.DataFrame()\n",
    "    test_sca = pd.DataFrame()\n",
    "    train_sca[X_columns] = scaler1.fit_transform(x_train)\n",
    "    train_sca[Y_columns] = scaler2.fit_transform(y_train)\n",
    "    test_sca[X_columns] = scaler3.fit_transform(x_test)\n",
    "    test_sca[Y_columns] = scaler4.fit_transform(y_test)\n",
    "    return train_sca, test_sca, (scaler1,scaler2, scaler3, scaler4)\n",
    "\n",
    "x_train, y_train, x_test, y_test, X_columns, Y_columns = load_data()\n",
    "train_sca, test_sca, (scaler1, scaler2, scaler3, scaler4) = preprocess(x_train, y_train, x_test, y_test, X_columns, Y_columns)\n",
    "x_train_ts,y_train_ts,x_test_ts,y_test_ts = split_data(train_sca, test_sca, seq, X_columns, Y_columns)\n",
    "input_size, output_size = len(X_columns), len(Y_columns)"
   ],
   "metadata": {
    "collapsed": false,
    "ExecuteTime": {
     "start_time": "2023-08-28T21:46:46.292063Z",
     "end_time": "2023-08-28T21:46:48.447740Z"
    }
   }
  },
  {
   "cell_type": "code",
   "execution_count": null,
   "outputs": [],
   "source": [
    "class PositionalEncoding(nn.Module):\n",
    "    def __init__(self, d_model, max_len=5000):\n",
    "        super(PositionalEncoding, self).__init__()\n",
    "\n",
    "        pe = torch.zeros(max_len, d_model)\n",
    "        position = torch.arange(0, max_len, dtype=torch.float).unsqueeze(1)\n",
    "        div_term = torch.exp(torch.arange(0, d_model, 2).float() * (-math.log(10000.0) / d_model))\n",
    "        pe[:, 0::2] = torch.sin(position * div_term)\n",
    "        pe[:, 1::2] = torch.cos(position * div_term)[:, :d_model // 2]\n",
    "        pe = pe.unsqueeze(0).transpose(0, 1)\n",
    "        # pe.requires_grad = False\n",
    "        self.register_buffer('pe', pe)\n",
    "\n",
    "    def forward(self, x):\n",
    "        return x + self.pe[:x.size(0), :]\n",
    "\n",
    "\n",
    "class Transformer(nn.Module):\n",
    "    def __init__(self, feature_size, output_size, seq, mlp_hidden_dim=8, nhead=1, output='linear', num_layers=1, dropout=0.1):\n",
    "        super(Transformer, self).__init__()\n",
    "        self.model_type = 'Transformer'\n",
    "\n",
    "        self.src_mask = None\n",
    "        self.pos_encoder = PositionalEncoding(feature_size)\n",
    "        self.encoder_layer = nn.TransformerEncoderLayer(d_model=feature_size, nhead=nhead, dropout=dropout)\n",
    "        self.transformer_encoder = nn.TransformerEncoder(self.encoder_layer, num_layers=num_layers)\n",
    "        self.decoder = nn.Linear(feature_size, 1)\n",
    "        self.init_weights()\n",
    "\n",
    "        self.feature_size = feature_size\n",
    "        self.num_layers = num_layers\n",
    "        self.dropout = dropout\n",
    "        self.output = output\n",
    "        if output == 'linear':\n",
    "            self.out = nn.Sequential(\n",
    "                nn.Linear(seq-1, mlp_hidden_dim),\n",
    "                nn.ReLU(),\n",
    "                nn.Linear(mlp_hidden_dim, output_size)\n",
    "            )\n",
    "\n",
    "\n",
    "    def feature(self):\n",
    "        return {\"feature_size\": self.feature_size, \"num_layers\": self.num_layers, \"dropout\": self.dropout}\n",
    "\n",
    "    def init_weights(self):\n",
    "        initrange = 0.1\n",
    "        self.decoder.bias.data.zero_()\n",
    "        self.decoder.weight.data.uniform_(-initrange, initrange)\n",
    "\n",
    "    def forward(self, src):\n",
    "        if self.src_mask is None or self.src_mask.size(0) != len(src):\n",
    "            device = src.device\n",
    "            mask = self._generate_square_subsequent_mask(len(src)).to(device)\n",
    "            self.src_mask = mask\n",
    "\n",
    "        src = self.pos_encoder(src)\n",
    "        res = self.transformer_encoder(src, self.src_mask)\n",
    "        res = self.decoder(res)\n",
    "        if self.output == 'mean':\n",
    "            res = torch.mean(res, dim=1)\n",
    "        elif self.output == 'max':\n",
    "            res = torch.max(res, dim=1)[0]\n",
    "        elif self.output == 'linear':\n",
    "            res = self.out(res.squeeze(2))\n",
    "        return res\n",
    "\n",
    "    def _generate_square_subsequent_mask(self, sz):\n",
    "        mask = (torch.triu(torch.ones(sz, sz)) == 1).transpose(0, 1)\n",
    "        mask = mask.float().masked_fill(mask == 0, float('-inf')).masked_fill(mask == 1, float(0.0))\n",
    "        return mask\n"
   ],
   "metadata": {
    "collapsed": false,
    "ExecuteTime": {
     "start_time": "2023-08-28T21:46:48.447740Z",
     "end_time": "2023-08-28T21:46:48.455360Z"
    }
   }
  },
  {
   "cell_type": "code",
   "execution_count": null,
   "outputs": [],
   "source": [
    "def get_model_output(model, input, bs=128):\n",
    "    with torch.no_grad():\n",
    "        for i in range(math.ceil(input.shape[0]/bs)):\n",
    "            Y_pred = model(input[i*bs:(i+1)*bs]).detach().cpu().numpy().reshape(-1, 1)\n",
    "            if i == 0:\n",
    "                res = Y_pred\n",
    "            else:\n",
    "                res = np.concatenate([res, Y_pred], 0)\n",
    "    return res"
   ],
   "metadata": {
    "collapsed": false,
    "ExecuteTime": {
     "start_time": "2023-08-28T21:46:48.457366Z",
     "end_time": "2023-08-28T21:46:48.460356Z"
    }
   }
  },
  {
   "cell_type": "code",
   "execution_count": null,
   "outputs": [],
   "source": [
    "def train(model, model_path, device, train_iter, x_test, y_test, scaler4):\n",
    "    myloss = nn.MSELoss()\n",
    "    optimizer = torch.optim.Adam(model.parameters(), lr=0.001)\n",
    "\n",
    "    import time\n",
    "    start_time = time.time()\n",
    "\n",
    "    lossmin = 1\n",
    "    for epoch in range(epochs):\n",
    "        for inx, (X, Y) in enumerate(train_iter):\n",
    "            Y_pred = model(X)\n",
    "            loss = myloss(Y, Y_pred)\n",
    "            # 梯度清0\n",
    "            optimizer.zero_grad()\n",
    "            # 计算梯度\n",
    "            loss.backward()\n",
    "            # 修改权值\n",
    "            optimizer.step()\n",
    "            torch.cuda.empty_cache()\n",
    "\n",
    "        y_test_pred = get_model_output(model, x_test.to(device))\n",
    "        y_test_pred = scaler4.inverse_transform(y_test_pred)\n",
    "        loss = mean_absolute_percentage_error(y_test, y_test_pred)\n",
    "        print(f'*****************epoch{epoch} MAPE {loss}')\n",
    "        if loss < 1 and loss < lossmin:\n",
    "            lossmin = loss\n",
    "            torch.save(model.state_dict(), model_path)\n",
    "\n",
    "    training_time = time.time() - start_time\n",
    "    print(f'training_time{training_time}')\n",
    "    return"
   ],
   "metadata": {
    "collapsed": false,
    "ExecuteTime": {
     "start_time": "2023-08-28T21:46:48.462349Z",
     "end_time": "2023-08-28T21:46:48.465339Z"
    }
   }
  },
  {
   "cell_type": "code",
   "execution_count": null,
   "outputs": [],
   "source": [
    "torch_dataset = data.TensorDataset(x_train_ts.to(device), y_train_ts.to(device))\n",
    "train_iter = data.DataLoader(\n",
    "    dataset=torch_dataset,\n",
    "    batch_size=batch_size,\n",
    "    shuffle=True,\n",
    "    num_workers=0\n",
    ")\n",
    "\n",
    "\n",
    "# model.load_state_dict(torch.load(\"./mpkl/m11_rnn_.pkl\"))\n",
    "\n",
    "model_path = './mpkl/m16_tf_.pkl'\n",
    "model = Transformer(input_size, output_size, seq).to(device)\n",
    "\n",
    "\n",
    "train(model, model_path, device, train_iter, x_test_ts, y_test, scaler4)\n",
    "model.load_state_dict(torch.load(model_path))\n"
   ],
   "metadata": {
    "collapsed": false,
    "ExecuteTime": {
     "start_time": "2023-08-28T21:46:48.466841Z",
     "end_time": "2023-08-28T21:48:18.555072Z"
    }
   }
  },
  {
   "cell_type": "code",
   "execution_count": null,
   "outputs": [],
   "source": [
    "y_train_pred = get_model_output(model, x_train_ts.to(device))\n",
    "y_train_pred = scaler2.inverse_transform(y_train_pred)\n",
    "y_train_pred = pd.DataFrame(columns=['AQ'], data=y_train_pred)\n",
    "\n",
    "y_test_pred = get_model_output(model, x_test_ts.to(device))\n",
    "y_test_pred = scaler4.inverse_transform(y_test_pred)\n",
    "y_test_pred = pd.DataFrame(columns=['AQ'], data=y_test_pred)\n",
    "print(f'***************************************************')\n",
    "loss = mean_absolute_percentage_error(y_test, y_test_pred)\n",
    "print('MAPE:', loss)"
   ],
   "metadata": {
    "collapsed": false,
    "ExecuteTime": {
     "start_time": "2023-08-28T21:48:18.556827Z",
     "end_time": "2023-08-28T21:48:18.643726Z"
    }
   }
  },
  {
   "cell_type": "code",
   "execution_count": null,
   "outputs": [],
   "source": [
    "import seaborn as sns\n",
    "sns.set(context='paper', style='ticks')\n",
    "\n",
    "fig, axes = plt.subplots(2, 1, figsize=(20, 10))\n",
    "ax1 = axes[0]\n",
    "ax2 = axes[1]\n",
    "fig.subplots_adjust(left=0.1, right=0.8, bottom=0.1, top=0.9, wspace=0.2, hspace=0.3)\n",
    "\n",
    "# x=train_index[::32]\n",
    "# y1=y_train['AQ'][::32]\n",
    "# y2=y_train_pred['AQ'][::32]\n",
    "lns1 = ax1.plot(y_train[:], label='y_train', marker='v', markevery=1, color='lightcoral')\n",
    "lns2 = ax1.plot(y_train_pred[:], label='y_train_pred', marker='D', markevery=1, color='dodgerblue')\n",
    "ax1.tick_params(labelsize=12)\n",
    "# ax1.set_xlim(0,14208,2000)\n",
    "# ax1.set_ylim(0,35000, 5000)\n",
    "# ax1.set_xlabel('Timeindex(8h)',size=20)\n",
    "# ax1.set_ylabel('AQ(m³/h)',size=20)\n",
    "ax1.set_title('m1_ridge', size=20, fontweight='bold', loc='left')\n",
    "lns = lns1 + lns2\n",
    "labs = [l.get_label() for l in lns]\n",
    "ax1.legend(lns, labs, loc=1, fontsize=12, ncol=2, frameon=False)\n",
    "\n",
    "lns1 = ax2.plot(y_test[:], label='y_test', marker='v', markevery=1, color='lightcoral')\n",
    "lns2 = ax2.plot(y_test_pred[:], label='y_test_pred', marker='D', markevery=1, color='dodgerblue')\n",
    "ax2.tick_params(labelsize=12)\n",
    "# ax1.set_xlim(0,14208,2000)\n",
    "# ax1.set_ylim(0,35000, 5000)\n",
    "# ax1.set_xlabel('Timeindex(8h)',size=20)\n",
    "# ax1.set_ylabel('AQ(m³/h)',size=20)\n",
    "ax2.set_title('m1_ridge', size=20, fontweight='bold', loc='left')\n",
    "lns = lns1 + lns2\n",
    "labs = [l.get_label() for l in lns]\n",
    "ax2.legend(lns, labs, loc=1, fontsize=12, ncol=2, frameon=False)\n",
    "\n",
    "frame = pd.DataFrame()\n",
    "frame['ytrain'] = y_train_pred\n",
    "frame['ytest'] = y_test_pred\n",
    "frame.to_excel('./modelresult/m16_tf.xlsx')\n",
    "plt.show()"
   ],
   "metadata": {
    "collapsed": false,
    "ExecuteTime": {
     "start_time": "2023-08-28T21:48:18.648232Z",
     "end_time": "2023-08-28T21:48:19.644978Z"
    }
   }
  },
  {
   "cell_type": "code",
   "execution_count": null,
   "outputs": [],
   "source": [],
   "metadata": {
    "collapsed": false,
    "ExecuteTime": {
     "start_time": "2023-08-28T21:48:19.644978Z",
     "end_time": "2023-08-28T21:48:19.646026Z"
    }
   }
  }
 ],
 "metadata": {
  "kernelspec": {
   "display_name": "Python 3",
   "language": "python",
   "name": "python3"
  },
  "language_info": {
   "codemirror_mode": {
    "name": "ipython",
    "version": 2
   },
   "file_extension": ".py",
   "mimetype": "text/x-python",
   "name": "python",
   "nbconvert_exporter": "python",
   "pygments_lexer": "ipython2",
   "version": "2.7.6"
  }
 },
 "nbformat": 4,
 "nbformat_minor": 0
}
