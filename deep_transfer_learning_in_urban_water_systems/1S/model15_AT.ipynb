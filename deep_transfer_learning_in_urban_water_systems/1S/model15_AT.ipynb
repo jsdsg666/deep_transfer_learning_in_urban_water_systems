{
 "cells": [
  {
   "cell_type": "code",
   "execution_count": null,
   "metadata": {
    "collapsed": true,
    "ExecuteTime": {
     "start_time": "2023-08-30T04:17:09.419012Z",
     "end_time": "2023-08-30T04:17:10.616000Z"
    }
   },
   "outputs": [],
   "source": [
    "%matplotlib inline\n",
    "import pathlib\n",
    "import warnings\n",
    "import math\n",
    "import matplotlib.pyplot as plt\n",
    "import numpy as np\n",
    "import pandas as pd\n",
    "import torch\n",
    "from sklearn.metrics import mean_absolute_percentage_error\n",
    "from sklearn.preprocessing import MinMaxScaler\n",
    "from torch import nn\n",
    "from torch.utils import data\n",
    "\n",
    "warnings.filterwarnings(\"ignore\")\n",
    "pd.set_option('display.max_columns', None)\n",
    "pd.set_option('display.max_rows', None)"
   ]
  },
  {
   "cell_type": "code",
   "execution_count": null,
   "outputs": [],
   "source": [
    "seq = 32\n",
    "hidden_size = 32\n",
    "num_layers = 8\n",
    "batch_size = 32\n",
    "epochs = 100"
   ],
   "metadata": {
    "collapsed": false,
    "ExecuteTime": {
     "start_time": "2023-08-30T04:17:10.617014Z",
     "end_time": "2023-08-30T04:17:10.621003Z"
    }
   }
  },
  {
   "cell_type": "code",
   "execution_count": null,
   "outputs": [],
   "source": [
    "device = torch.device(\"cuda:0\" if torch.cuda.is_available() else \"cpu\")\n",
    "print(\"*********************\")\n",
    "print(torch.cuda.get_device_name(0))\n",
    "print(device)"
   ],
   "metadata": {
    "collapsed": false,
    "ExecuteTime": {
     "start_time": "2023-08-30T04:17:10.638549Z",
     "end_time": "2023-08-30T04:17:10.644529Z"
    }
   }
  },
  {
   "cell_type": "code",
   "execution_count": null,
   "outputs": [],
   "source": [
    "def load_data():\n",
    "    train = pd.read_excel('./dataset/train.xlsx')\n",
    "    test = pd.read_excel('./dataset/test.xlsx')\n",
    "\n",
    "    time_columns = ['time']\n",
    "    X_columns = [col for col in train.columns if col not in ['time','CODeff']]\n",
    "    Y_columns =['CODeff']\n",
    "\n",
    "    x_train = train[X_columns]\n",
    "    y_train = train[Y_columns]\n",
    "    x_test = test[X_columns]\n",
    "    y_test = test[Y_columns]\n",
    "    return x_train, y_train, x_test, y_test, X_columns, Y_columns\n",
    "\n",
    "\n",
    "def split_data(train_sca, test_sca, seq, X_columns, Y_columns):  # 47预测1\n",
    "    data_raw = pd.concat([train_sca, test_sca])\n",
    "\n",
    "    data = []\n",
    "    for index in range(len(data_raw) - seq):\n",
    "        data.append(data_raw[index:index + seq])\n",
    "    data = np.array(data)\n",
    "    # print(len(data))  #14640\n",
    "    test_set_size = len(test_sca)  # 96\n",
    "    train_set_size = data.shape[0] - test_set_size\n",
    "\n",
    "    # 第一个-1是47预测1\n",
    "    # 第二个1是不计time，-1是只预测AQ\n",
    "    x_train = data[:train_set_size, :-1, :len(X_columns)].astype('float32')\n",
    "    y_train = data[:train_set_size, -1, -len(Y_columns)].reshape(-1, len(Y_columns)).astype('float32')\n",
    "\n",
    "    x_test = data[train_set_size:, :-1, :len(X_columns)].astype('float32')\n",
    "    y_test = data[train_set_size:, -1, -len(Y_columns)].reshape(-1, len(Y_columns)).astype('float32')\n",
    "\n",
    "    return torch.tensor(x_train), torch.tensor(y_train), torch.tensor(x_test), torch.tensor(y_test)\n",
    "\n",
    "\n",
    "def preprocess(x_train, y_train, x_test, y_test, X_columns, Y_columns):\n",
    "    scaler1 = MinMaxScaler(feature_range=(0.000000001, 1))\n",
    "    scaler2 = MinMaxScaler(feature_range=(0.000000001, 1))\n",
    "    scaler3 = MinMaxScaler(feature_range=(0.000000001, 1))\n",
    "    scaler4 = MinMaxScaler(feature_range=(0.000000001, 1))\n",
    "    train_sca = pd.DataFrame()\n",
    "    test_sca = pd.DataFrame()\n",
    "    train_sca[X_columns] = scaler1.fit_transform(x_train)\n",
    "    train_sca[Y_columns] = scaler2.fit_transform(y_train)\n",
    "    test_sca[X_columns] = scaler3.fit_transform(x_test)\n",
    "    test_sca[Y_columns] = scaler4.fit_transform(y_test)\n",
    "    return train_sca, test_sca, (scaler1,scaler2, scaler3, scaler4)\n",
    "\n",
    "x_train, y_train, x_test, y_test, X_columns, Y_columns = load_data()\n",
    "train_sca, test_sca, (scaler1, scaler2, scaler3, scaler4) = preprocess(x_train, y_train, x_test, y_test, X_columns, Y_columns)\n",
    "x_train_ts,y_train_ts,x_test_ts,y_test_ts = split_data(train_sca, test_sca, seq, X_columns, Y_columns)\n",
    "input_size, output_size = len(X_columns), len(Y_columns)"
   ],
   "metadata": {
    "collapsed": false,
    "ExecuteTime": {
     "start_time": "2023-08-30T04:17:10.643532Z",
     "end_time": "2023-08-30T04:17:13.223310Z"
    }
   }
  },
  {
   "cell_type": "code",
   "execution_count": null,
   "outputs": [],
   "source": [
    "class FeedForward(nn.Module):\n",
    "    def __init__(self, model_dim=512, hidden_dim=2048, dropout_rate=0.0):\n",
    "        super().__init__()\n",
    "        self.model_dim = model_dim\n",
    "        self.hidden_dim = hidden_dim\n",
    "        self.dropout_rate = dropout_rate\n",
    "\n",
    "        self.linear1 = nn.Linear(self.model_dim, self.hidden_dim)\n",
    "        self.linear2 = nn.Linear(self.hidden_dim, self.model_dim)\n",
    "        self.norm = nn.LayerNorm(model_dim)\n",
    "        self.dropout = nn.Dropout(dropout_rate)\n",
    "\n",
    "    def forward(self, x):\n",
    "        output = self.linear2(torch.relu(self.linear1(x)))\n",
    "        output = self.dropout(output)\n",
    "        output = self.norm(output + x)\n",
    "        return output\n",
    "\n",
    "\n",
    "class GRUAttn(nn.Module):\n",
    "    def __init__(self, input_dim, model_dim, ff_hidden_dim, num_heads=1, num_blocks=1,\n",
    "                 dropout_rate=0.1):\n",
    "        super(GRUAttn, self).__init__()\n",
    "        self.num_blocks = num_blocks\n",
    "\n",
    "        gru_hidden_dim = model_dim // 2\n",
    "        self.gru = nn.GRU(input_dim, gru_hidden_dim, batch_first=True, bidirectional=True)\n",
    "\n",
    "        for i in range(self.num_blocks):\n",
    "            self.__setattr__('multihead_attn_{}'.format(i), nn.MultiheadAttention(model_dim, num_heads))\n",
    "            self.__setattr__('feedforward_{}'.format(i), FeedForward(model_dim=model_dim,\n",
    "                                                                     hidden_dim=ff_hidden_dim,\n",
    "                                                                     dropout_rate=dropout_rate))\n",
    "\n",
    "        self.fc = nn.Linear(model_dim, 1)\n",
    "\n",
    "    def forward(self, x):\n",
    "        x, _ = self.gru(x)  # x (B, T, 2 * D/2)\n",
    "        for i in range(self.num_blocks):\n",
    "            x, _ = self.__getattr__('multihead_attn_{}'.format(i))(x, x, x)\n",
    "            x = self.__getattr__('feedforward_{}'.format(i))(x)\n",
    "\n",
    "        x = self.fc(x)\n",
    "        return x[:, -1, :]"
   ],
   "metadata": {
    "collapsed": false,
    "ExecuteTime": {
     "start_time": "2023-08-30T04:17:13.227310Z",
     "end_time": "2023-08-30T04:17:13.231296Z"
    }
   }
  },
  {
   "cell_type": "code",
   "execution_count": null,
   "outputs": [],
   "source": [
    "def get_model_output(model, input, bs=128):\n",
    "    with torch.no_grad():\n",
    "        for i in range(math.ceil(input.shape[0]/bs)):\n",
    "            Y_pred = model(input[i*bs:(i+1)*bs]).detach().cpu().numpy().reshape(-1, 1)\n",
    "            if i == 0:\n",
    "                res = Y_pred\n",
    "            else:\n",
    "                res = np.concatenate([res, Y_pred], 0)\n",
    "    return res"
   ],
   "metadata": {
    "collapsed": false,
    "ExecuteTime": {
     "start_time": "2023-08-30T04:17:13.233289Z",
     "end_time": "2023-08-30T04:17:13.235283Z"
    }
   }
  },
  {
   "cell_type": "code",
   "execution_count": null,
   "outputs": [],
   "source": [
    "def train(model, model_path, device, train_iter, x_test, y_test, scaler4):\n",
    "    myloss = nn.MSELoss()\n",
    "    optimizer = torch.optim.Adam(model.parameters(), lr=0.001)\n",
    "\n",
    "    import time\n",
    "    start_time = time.time()\n",
    "\n",
    "    lossmin = 1\n",
    "    for epoch in range(epochs):\n",
    "        for inx, (X, Y) in enumerate(train_iter):\n",
    "            Y_pred = model(X)\n",
    "            loss = myloss(Y, Y_pred)\n",
    "            # 梯度清0\n",
    "            optimizer.zero_grad()\n",
    "            # 计算梯度\n",
    "            loss.backward()\n",
    "            # 修改权值\n",
    "            optimizer.step()\n",
    "            torch.cuda.empty_cache()\n",
    "\n",
    "        y_test_pred = get_model_output(model, x_test.to(device))\n",
    "        y_test_pred = scaler4.inverse_transform(y_test_pred)\n",
    "        loss = mean_absolute_percentage_error(y_test, y_test_pred)\n",
    "        print(f'*****************epoch{epoch} MAPE {loss}')\n",
    "        if loss < 1 and loss < lossmin:\n",
    "            lossmin = loss\n",
    "            torch.save(model.state_dict(), model_path)\n",
    "\n",
    "    training_time = time.time() - start_time\n",
    "    print(f'training_time{training_time}')\n",
    "    return"
   ],
   "metadata": {
    "collapsed": false,
    "ExecuteTime": {
     "start_time": "2023-08-30T04:17:13.236782Z",
     "end_time": "2023-08-30T04:17:13.240773Z"
    }
   }
  },
  {
   "cell_type": "code",
   "execution_count": null,
   "outputs": [],
   "source": [
    "torch_dataset = data.TensorDataset(x_train_ts.to(device), y_train_ts.to(device))\n",
    "train_iter = data.DataLoader(\n",
    "    dataset=torch_dataset,\n",
    "    batch_size=batch_size,\n",
    "    shuffle=True,\n",
    "    num_workers=0\n",
    ")\n",
    "\n",
    "\n",
    "model_path = './mpkl/m15_at_.pkl'\n",
    "model = GRUAttn(input_size, hidden_size, 32).to(device)\n",
    "\n",
    "\n",
    "train(model, model_path, device, train_iter, x_test_ts, y_test, scaler4)\n",
    "model.load_state_dict(torch.load(model_path))\n",
    "\n"
   ],
   "metadata": {
    "collapsed": false,
    "ExecuteTime": {
     "start_time": "2023-08-30T04:17:13.242766Z",
     "end_time": "2023-08-30T04:18:51.948176Z"
    }
   }
  },
  {
   "cell_type": "code",
   "execution_count": null,
   "outputs": [],
   "source": [
    "y_train_pred = get_model_output(model, x_train_ts.to(device))\n",
    "y_train_pred = scaler2.inverse_transform(y_train_pred)\n",
    "y_train_pred = pd.DataFrame(columns=['AQ'], data=y_train_pred)\n",
    "\n",
    "y_test_pred = get_model_output(model, x_test_ts.to(device))\n",
    "y_test_pred = scaler4.inverse_transform(y_test_pred)\n",
    "y_test_pred = pd.DataFrame(columns=['AQ'], data=y_test_pred)\n",
    "print(f'***************************************************')\n",
    "loss = mean_absolute_percentage_error(y_test, y_test_pred)\n",
    "print('MAPE:', loss)"
   ],
   "metadata": {
    "collapsed": false,
    "ExecuteTime": {
     "start_time": "2023-08-30T04:18:51.949978Z",
     "end_time": "2023-08-30T04:18:52.011946Z"
    }
   }
  },
  {
   "cell_type": "code",
   "execution_count": null,
   "outputs": [],
   "source": [
    "import seaborn as sns\n",
    "sns.set(context='paper', style='ticks')\n",
    "\n",
    "fig, axes = plt.subplots(2, 1, figsize=(20, 10))\n",
    "ax1 = axes[0]\n",
    "ax2 = axes[1]\n",
    "fig.subplots_adjust(left=0.1, right=0.8, bottom=0.1, top=0.9, wspace=0.2, hspace=0.3)\n",
    "\n",
    "# x=train_index[::32]\n",
    "# y1=y_train['AQ'][::32]\n",
    "# y2=y_train_pred['AQ'][::32]\n",
    "lns1 = ax1.plot(y_train[:], label='y_train', marker='v', markevery=1, color='lightcoral')\n",
    "lns2 = ax1.plot(y_train_pred[:], label='y_train_pred', marker='D', markevery=1, color='dodgerblue')\n",
    "ax1.tick_params(labelsize=12)\n",
    "# ax1.set_xlim(0,14208,2000)\n",
    "# ax1.set_ylim(0,35000, 5000)\n",
    "# ax1.set_xlabel('Timeindex(8h)',size=20)\n",
    "# ax1.set_ylabel('AQ(m³/h)',size=20)\n",
    "ax1.set_title('m1_ridge', size=20, fontweight='bold', loc='left')\n",
    "lns = lns1 + lns2\n",
    "labs = [l.get_label() for l in lns]\n",
    "ax1.legend(lns, labs, loc=1, fontsize=12, ncol=2, frameon=False)\n",
    "\n",
    "lns1 = ax2.plot(y_test[:], label='y_test', marker='v', markevery=1, color='lightcoral')\n",
    "lns2 = ax2.plot(y_test_pred[:], label='y_test_pred', marker='D', markevery=1, color='dodgerblue')\n",
    "ax2.tick_params(labelsize=12)\n",
    "# ax1.set_xlim(0,14208,2000)\n",
    "# ax1.set_ylim(0,35000, 5000)\n",
    "# ax1.set_xlabel('Timeindex(8h)',size=20)\n",
    "# ax1.set_ylabel('AQ(m³/h)',size=20)\n",
    "ax2.set_title('m1_ridge', size=20, fontweight='bold', loc='left')\n",
    "lns = lns1 + lns2\n",
    "labs = [l.get_label() for l in lns]\n",
    "ax2.legend(lns, labs, loc=1, fontsize=12, ncol=2, frameon=False)\n",
    "\n",
    "frame = pd.DataFrame()\n",
    "frame['ytrain'] = y_train_pred\n",
    "frame['ytest'] = y_test_pred\n",
    "frame.to_excel('./modelresult/m15_at.xlsx')\n",
    "plt.show()"
   ],
   "metadata": {
    "collapsed": false,
    "ExecuteTime": {
     "start_time": "2023-08-30T04:18:52.015933Z",
     "end_time": "2023-08-30T04:18:53.004956Z"
    }
   }
  }
 ],
 "metadata": {
  "kernelspec": {
   "display_name": "Python 3",
   "language": "python",
   "name": "python3"
  },
  "language_info": {
   "codemirror_mode": {
    "name": "ipython",
    "version": 2
   },
   "file_extension": ".py",
   "mimetype": "text/x-python",
   "name": "python",
   "nbconvert_exporter": "python",
   "pygments_lexer": "ipython2",
   "version": "2.7.6"
  }
 },
 "nbformat": 4,
 "nbformat_minor": 0
}
