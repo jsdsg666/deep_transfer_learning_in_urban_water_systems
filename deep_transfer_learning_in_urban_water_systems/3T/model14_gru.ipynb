{
 "cells": [
  {
   "cell_type": "code",
   "execution_count": null,
   "outputs": [],
   "source": [
    "import warnings\n",
    "warnings.filterwarnings(\"ignore\")\n",
    "import numpy as np\n",
    "import pandas as pd\n",
    "pd.set_option('display.max_columns', None)\n",
    "pd.set_option('display.max_rows', None)\n",
    "%matplotlib inline\n",
    "import  matplotlib.pyplot as plt\n",
    "import torch\n",
    "from torch import  nn,optim\n",
    "\n",
    "import random\n",
    "import torch\n",
    "import os\n",
    "\n",
    "def seed_everything(seed):\n",
    "    random.seed(seed)\n",
    "    os.environ['PYTHONHASHSEED'] = str(seed)\n",
    "    np.random.seed(seed)\n",
    "    torch.manual_seed(seed)\n",
    "    torch.cuda.manual_seed(seed)\n",
    "    torch.cuda.manual_seed_all(seed)\n",
    "    torch.backends.cudnn.deterministic = True\n",
    "seed_everything(seed=521)"
   ],
   "metadata": {
    "collapsed": false,
    "ExecuteTime": {
     "start_time": "2023-08-29T19:54:22.905224Z",
     "end_time": "2023-08-29T19:54:23.861781Z"
    }
   }
  },
  {
   "cell_type": "code",
   "execution_count": null,
   "outputs": [],
   "source": [
    "train= pd.read_excel('./dataset/test.xlsx')\n",
    "test= pd.read_excel('./dataset/test.xlsx')\n",
    "\n",
    "\n",
    "time_columns=['time']\n",
    "X_columns = [col for col in train.columns if col not in ['time','TNeff']]\n",
    "Y_columns =['TNeff']\n",
    "\n",
    "x_train=train[X_columns]\n",
    "y_train=train[Y_columns]\n",
    "x_test=test[X_columns]\n",
    "y_test=test[Y_columns]\n",
    "\n",
    "device = torch.device(\"cuda:0\" if torch.cuda.is_available() else \"cpu\")\n",
    "print(\"*********************\")\n",
    "print(torch.cuda.get_device_name(0))\n",
    "print(device)"
   ],
   "metadata": {
    "collapsed": false,
    "ExecuteTime": {
     "start_time": "2023-08-29T19:54:23.863472Z",
     "end_time": "2023-08-29T19:54:24.794837Z"
    }
   }
  },
  {
   "cell_type": "code",
   "execution_count": null,
   "outputs": [],
   "source": [
    "from sklearn.preprocessing import MinMaxScaler\n",
    "scaler1=MinMaxScaler(feature_range=(0.000000001,1))\n",
    "scaler2=MinMaxScaler(feature_range=(0.000000001,1))\n",
    "scaler3=MinMaxScaler(feature_range=(0.000000001,1))\n",
    "scaler4=MinMaxScaler(feature_range=(0.000000001,1))\n",
    "train_sca=pd.DataFrame()\n",
    "test_sca=pd.DataFrame()\n",
    "train_sca[X_columns]=scaler1.fit_transform(train[X_columns])\n",
    "train_sca[Y_columns]=scaler2.fit_transform(train[Y_columns])\n",
    "test_sca[X_columns]=scaler3.fit_transform(test[X_columns])\n",
    "test_sca[Y_columns]=scaler4.fit_transform(test[Y_columns])\n",
    "\n",
    "\n"
   ],
   "metadata": {
    "collapsed": false,
    "ExecuteTime": {
     "start_time": "2023-08-29T19:54:24.797014Z",
     "end_time": "2023-08-29T19:54:24.837889Z"
    }
   }
  },
  {
   "cell_type": "code",
   "execution_count": null,
   "outputs": [],
   "source": [
    "input_size=len(X_columns)\n",
    "output_size=len(Y_columns)\n",
    "\n",
    "hidden_size=16\n",
    "num_layers=8\n",
    "\n",
    "seq=16\n",
    "batch_size=4\n",
    "\n",
    "epochs=100\n",
    "\n",
    "\n",
    "\n"
   ],
   "metadata": {
    "collapsed": false,
    "ExecuteTime": {
     "start_time": "2023-08-29T19:54:24.839881Z",
     "end_time": "2023-08-29T19:54:24.840877Z"
    }
   }
  },
  {
   "cell_type": "code",
   "execution_count": null,
   "outputs": [],
   "source": [
    "def split_data(train_sca,test_sca,seq,X_columns,Y_columns): #47预测1\n",
    "\n",
    "\n",
    "    data_raw=pd.concat([train_sca,test_sca])\n",
    "\n",
    "    data=[]\n",
    "    for index in range(len(data_raw)-seq):\n",
    "        data.append(data_raw[index:index+seq])\n",
    "    data=np.array(data)\n",
    "    # print(len(data))  #14640\n",
    "    test_set_size=len(test_sca)  #96\n",
    "    train_set_size=data.shape[0]-test_set_size\n",
    "\n",
    "    # 第一个-1是47预测1\n",
    "    #第二个1是不计time，-1是只预测AQ\n",
    "    x_train=data[:train_set_size,:-1,:len(X_columns)].astype('float32')\n",
    "    y_train=data[:train_set_size,-1,-len(Y_columns)].reshape(-1,len(Y_columns)).astype('float32')\n",
    "\n",
    "    x_test=data[train_set_size:,:-1,:len(X_columns)].astype('float32')\n",
    "    y_test=data[train_set_size:,-1,-len(Y_columns)].reshape(-1,len(Y_columns)).astype('float32')\n",
    "\n",
    "    def nptotorch(inputdata):\n",
    "        return torch.from_numpy(inputdata).to(device)\n",
    "    x_train_ts= nptotorch(x_train)\n",
    "    y_train_ts= nptotorch(y_train)\n",
    "    x_test_ts= nptotorch(x_test)\n",
    "    y_test_ts= nptotorch(y_test)\n",
    "\n",
    "    return [x_train_ts,y_train_ts,x_test_ts,y_test_ts]\n",
    "\n",
    "\n",
    "x_train_ts,y_train_ts,x_test_ts,y_test_ts=split_data(\n",
    "    train_sca=train_sca,\n",
    "    # train_sca=train.iloc[:,1:],\n",
    "    test_sca=test_sca,\n",
    "    # test_sca=test.iloc[:,1:],\n",
    "    seq=seq,\n",
    "    X_columns=X_columns,\n",
    "    Y_columns=Y_columns)\n",
    "print(x_train_ts.shape)\n",
    "print(y_train_ts.shape)\n",
    "print(x_test_ts.shape)\n",
    "print(y_test_ts.shape)"
   ],
   "metadata": {
    "collapsed": false,
    "ExecuteTime": {
     "start_time": "2023-08-29T19:54:24.844863Z",
     "end_time": "2023-08-29T19:54:25.578063Z"
    }
   }
  },
  {
   "cell_type": "code",
   "execution_count": null,
   "outputs": [],
   "source": [
    "\n"
   ],
   "metadata": {
    "collapsed": false,
    "ExecuteTime": {
     "start_time": "2023-08-29T19:54:25.580053Z",
     "end_time": "2023-08-29T19:54:25.581049Z"
    }
   }
  },
  {
   "cell_type": "code",
   "execution_count": null,
   "outputs": [],
   "source": [
    "import  torch.nn as nn\n",
    "class GRU(nn.Module):\n",
    "    def __init__(self,input_size,hidden_size,num_layers,output_size):\n",
    "        super(GRU,self).__init__()\n",
    "\n",
    "        self.input_size=input_size\n",
    "        self.hidden_size=hidden_size\n",
    "        self.num_layers=num_layers\n",
    "        self.output_size=output_size\n",
    "\n",
    "\n",
    "        self.GRU=nn.GRU(self.input_size,self.hidden_size,self.num_layers,batch_first=True,dropout=0.5)\n",
    "        self.fc=nn.Linear(self.hidden_size,self.output_size)\n",
    "\n",
    "\n",
    "    def forward(self,input):\n",
    "        # batch_size, seq_len = train.shape[0],train.shape[1]\n",
    "\n",
    "        # h0=torch.zeros(self.num_layers,batch_size,self.hidden_size).to(device)\n",
    "        # c0=torch.zeros(self.num_layers,batch_size,self.hidden_size).to(device)\n",
    "        # out,(hn,cn)=self.lstm(train,(h0.detach(),c0.detach()))\n",
    "\n",
    "        # h0=torch.zeros(self.num_layers,batch_size,self.hidden_size).to(device)\n",
    "        # c0=torch.zeros(self.num_layers,batch_size,self.hidden_size).to(device)\n",
    "        out,_=self.GRU(input)\n",
    "        out = self.fc(out)\n",
    "        output = out[:, -1,:]\n",
    "\n",
    "\n",
    "        return output\n",
    "\n"
   ],
   "metadata": {
    "collapsed": false,
    "ExecuteTime": {
     "start_time": "2023-08-29T19:54:25.583545Z",
     "end_time": "2023-08-29T19:54:25.586434Z"
    }
   }
  },
  {
   "cell_type": "code",
   "execution_count": null,
   "outputs": [],
   "source": [
    "model =GRU(input_size=input_size,hidden_size=hidden_size,output_size=output_size,num_layers=num_layers).to(device)\n",
    "\n",
    "\n",
    "# def MAPE(y_true, y_pred):\n",
    "#     with np.errstate(divide='ignore', invalid='ignore'):\n",
    "#         if np.isnan(null_val):\n",
    "#             mask = ~np.isnan(y_t)\n",
    "#         else:\n",
    "#             mask = np.not_equal(y_t, null_val)\n",
    "#         mask = mask.astype('float32')\n",
    "#         mask /= np.mean(mask)\n",
    "#         mape = np.abs(np.divide(np.subtract(y_p, y_t).astype('float32'),\n",
    "#                       y_t))\n",
    "#         mape = np.nan_to_num(mask * mape)\n",
    "#         return np.mean(mape)\n",
    "\n",
    "myloss=nn.MSELoss()\n",
    "optimizer=torch.optim.Adam(model.parameters(),lr=0.001)\n"
   ],
   "metadata": {
    "collapsed": false,
    "ExecuteTime": {
     "start_time": "2023-08-29T19:54:25.587430Z",
     "end_time": "2023-08-29T19:54:28.346188Z"
    }
   }
  },
  {
   "cell_type": "code",
   "execution_count": null,
   "outputs": [],
   "source": [
    "import time\n",
    "start_time=time.time()\n",
    "hist=np.zeros(epochs)\n",
    "\n",
    "lstm=[]\n",
    "\n",
    "from torch.utils import data\n",
    "torch_dataset = data.TensorDataset(x_train_ts, y_train_ts)\n",
    "train_iter=data.DataLoader(\n",
    "    dataset=torch_dataset,\n",
    "    batch_size=batch_size,\n",
    "    shuffle=True,\n",
    "    num_workers=0\n",
    ")\n",
    "\n"
   ],
   "metadata": {
    "collapsed": false,
    "ExecuteTime": {
     "start_time": "2023-08-29T19:54:28.347185Z",
     "end_time": "2023-08-29T19:54:28.349118Z"
    }
   }
  },
  {
   "cell_type": "code",
   "execution_count": null,
   "outputs": [],
   "source": [
    "from sklearn.metrics import mean_absolute_percentage_error\n",
    "# lossmin=1\n",
    "# for epoch in range(epochs):\n",
    "#     for inx,(X, Y) in enumerate(train_iter):\n",
    "#\n",
    "#         Y_pred=model(X)\n",
    "#         loss =myloss(Y,Y_pred)\n",
    "#\n",
    "#\n",
    "#         #梯度清0\n",
    "#         optimizer.zero_grad()\n",
    "#         #计算梯度\n",
    "#         loss.backward()\n",
    "#         #修改权值\n",
    "#         optimizer.step()\n",
    "#\n",
    "#\n",
    "#         torch.cuda.empty_cache()\n",
    "#\n",
    "#\n",
    "#\n",
    "#\n",
    "#     test_index=test.index\n",
    "#     y_test_pred_ts = model(x_test_ts)\n",
    "#     y_test_pred = y_test_pred_ts.detach().cpu().numpy().reshape(-1,1)\n",
    "#     y_test_pred=scaler4.inverse_transform(y_test_pred)\n",
    "#     loss=mean_absolute_percentage_error(test[Y_columns],y_test_pred)\n",
    "#     print(f'*****************epoch{epoch} MAPE {loss}')\n",
    "#     if loss<1 and loss<lossmin:\n",
    "#         lossmin=loss\n",
    "#         torch.save(model.state_dict(),\"./mpkl/m14_gru_.pkl\")\n",
    "#\n",
    "#\n",
    "#\n",
    "# training_time=time.time()-start_time\n",
    "# print(f'training_time{training_time}')\n",
    "\n",
    "model.load_state_dict(torch.load(\"./mpkl/m14_gru_.pkl\"))\n",
    "\n",
    "\n",
    "\n",
    "train_index=train.index\n",
    "y_train_pred_ts = model(x_train_ts)\n",
    "y_train_pred = y_train_pred_ts.detach().cpu().numpy().reshape(-1,1)\n",
    "y_train_pred=scaler2.inverse_transform(y_train_pred)\n",
    "y_train_pred=pd.DataFrame(columns=['AQ'],data=y_train_pred)\n",
    "\n",
    "test_index=test.index\n",
    "y_test_pred_ts = model(x_test_ts)\n",
    "y_test_pred = y_test_pred_ts.detach().cpu().numpy().reshape(-1,1)\n",
    "y_test_pred=scaler4.inverse_transform(y_test_pred)\n",
    "y_test_pred=pd.DataFrame(columns=['AQ'],data=y_test_pred)\n",
    "print(f'***************************************************')\n",
    "loss=mean_absolute_percentage_error(test[Y_columns],y_test_pred)\n",
    "print('MAPE:', loss)\n",
    "\n",
    "training_time=time.time()-start_time\n",
    "print(f'training_time{training_time}')"
   ],
   "metadata": {
    "collapsed": false,
    "ExecuteTime": {
     "start_time": "2023-08-29T19:54:28.352109Z",
     "end_time": "2023-08-29T19:54:28.541505Z"
    }
   }
  },
  {
   "cell_type": "code",
   "execution_count": null,
   "outputs": [],
   "source": [
    "import seaborn as sns\n",
    "sns.set(context='paper', style='ticks')\n",
    "\n",
    "fig,axes=plt.subplots(2,1,figsize=(20,10))\n",
    "ax1=axes[0]\n",
    "ax2=axes[1]\n",
    "fig.subplots_adjust(left=0.1, right=0.8, bottom=0.1, top=0.9, wspace=0.2, hspace=0.3)\n",
    "\n",
    "\n",
    "# x=train_index[::32]\n",
    "# y1=y_train['AQ'][::32]\n",
    "# y2=y_train_pred['AQ'][::32]\n",
    "lns1=ax1.plot(y_train[:],label='y_train',marker='v',markevery=1, color='lightcoral')\n",
    "lns2=ax1.plot(y_train_pred[:],label='y_train_pred',marker='D',markevery=1, color='dodgerblue')\n",
    "ax1.tick_params(labelsize=12)\n",
    "# ax1.set_xlim(0,14208,2000)\n",
    "# ax1.set_ylim(0,35000, 5000)\n",
    "# ax1.set_xlabel('Timeindex(8h)',size=20)\n",
    "# ax1.set_ylabel('AQ(m³/h)',size=20)\n",
    "ax1.set_title('m1_ridge',size=20,fontweight='bold',loc='left')\n",
    "lns = lns1+lns2\n",
    "labs = [l.get_label() for l in lns]\n",
    "ax1.legend(lns, labs, loc=1,fontsize=12,ncol=2,frameon=False)\n",
    "\n",
    "\n",
    "\n",
    "lns1=ax2.plot(y_test[:],label='y_test',marker='v',markevery=1, color='lightcoral')\n",
    "lns2=ax2.plot(y_test_pred[:],label='y_test_pred',marker='D',markevery=1, color='dodgerblue')\n",
    "ax2.tick_params(labelsize=12)\n",
    "# ax1.set_xlim(0,14208,2000)\n",
    "# ax1.set_ylim(0,35000, 5000)\n",
    "# ax1.set_xlabel('Timeindex(8h)',size=20)\n",
    "# ax1.set_ylabel('AQ(m³/h)',size=20)\n",
    "ax2.set_title('m1_ridge',size=20,fontweight='bold',loc='left')\n",
    "lns = lns1+lns2\n",
    "labs = [l.get_label() for l in lns]\n",
    "ax2.legend(lns, labs, loc=1,fontsize=12,ncol=2,frameon=False)"
   ],
   "metadata": {
    "collapsed": false,
    "ExecuteTime": {
     "start_time": "2023-08-29T19:54:28.545491Z",
     "end_time": "2023-08-29T19:54:28.846964Z"
    }
   }
  },
  {
   "cell_type": "code",
   "execution_count": null,
   "outputs": [],
   "source": [
    "frame=pd.DataFrame()\n",
    "frame['ytrain']=y_train_pred\n",
    "frame['ytest']=y_test_pred\n",
    "frame.to_excel('./modelresult/m14_gru.xlsx')\n",
    "\n"
   ],
   "metadata": {
    "collapsed": false,
    "ExecuteTime": {
     "start_time": "2023-08-29T19:54:28.845962Z",
     "end_time": "2023-08-29T19:54:29.096234Z"
    }
   }
  }
 ],
 "metadata": {
  "kernelspec": {
   "display_name": "Python 3",
   "language": "python",
   "name": "python3"
  },
  "language_info": {
   "codemirror_mode": {
    "name": "ipython",
    "version": 2
   },
   "file_extension": ".py",
   "mimetype": "text/x-python",
   "name": "python",
   "nbconvert_exporter": "python",
   "pygments_lexer": "ipython2",
   "version": "2.7.6"
  }
 },
 "nbformat": 4,
 "nbformat_minor": 0
}
