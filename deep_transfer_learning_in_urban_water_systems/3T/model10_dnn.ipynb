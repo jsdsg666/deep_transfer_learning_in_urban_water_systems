{
 "cells": [
  {
   "cell_type": "code",
   "execution_count": null,
   "metadata": {
    "collapsed": true,
    "ExecuteTime": {
     "start_time": "2023-08-29T19:51:22.327680Z",
     "end_time": "2023-08-29T19:51:23.107481Z"
    }
   },
   "outputs": [],
   "source": [
    "import warnings\n",
    "warnings.filterwarnings(\"ignore\")\n",
    "import numpy as np\n",
    "import pandas as pd\n",
    "pd.set_option('display.max_columns', None)\n",
    "pd.set_option('display.max_rows', None)\n",
    "%matplotlib inline\n",
    "import  matplotlib.pyplot as plt\n",
    "import torch\n",
    "from torch import  nn,optim\n",
    "import random\n",
    "import torch\n",
    "import os\n",
    "\n",
    "def seed_everything(seed):\n",
    "    random.seed(seed)\n",
    "    os.environ['PYTHONHASHSEED'] = str(seed)\n",
    "    np.random.seed(seed)\n",
    "    torch.manual_seed(seed)\n",
    "    torch.cuda.manual_seed(seed)\n",
    "    torch.cuda.manual_seed_all(seed)\n",
    "    torch.backends.cudnn.deterministic = True\n",
    "seed_everything(seed=521)"
   ]
  },
  {
   "cell_type": "code",
   "execution_count": null,
   "outputs": [],
   "source": [
    "train= pd.read_excel('./dataset/test.xlsx')\n",
    "test= pd.read_excel('./dataset/test.xlsx')\n",
    "\n",
    "X_columns = [col for col in train.columns if col not in ['time','TNeff']]\n",
    "Y_columns =['TNeff']\n",
    "\n",
    "x_train=train[X_columns]\n",
    "y_train=train[Y_columns]\n",
    "x_test=test[X_columns]\n",
    "y_test=test[Y_columns]\n",
    "\n",
    "device = torch.device(\"cuda:0\" if torch.cuda.is_available() else \"cpu\")\n",
    "print(\"*********************\")\n",
    "print(torch.cuda.get_device_name(0))\n",
    "print(device)\n"
   ],
   "metadata": {
    "collapsed": false,
    "ExecuteTime": {
     "start_time": "2023-08-29T19:51:23.108478Z",
     "end_time": "2023-08-29T19:51:24.019327Z"
    }
   }
  },
  {
   "cell_type": "code",
   "execution_count": null,
   "outputs": [],
   "source": [],
   "metadata": {
    "collapsed": false,
    "ExecuteTime": {
     "start_time": "2023-08-29T19:51:24.020324Z",
     "end_time": "2023-08-29T19:51:24.023314Z"
    }
   }
  },
  {
   "cell_type": "code",
   "execution_count": null,
   "outputs": [],
   "source": [],
   "metadata": {
    "collapsed": false,
    "ExecuteTime": {
     "start_time": "2023-08-29T19:51:24.023314Z",
     "end_time": "2023-08-29T19:51:24.026304Z"
    }
   }
  },
  {
   "cell_type": "code",
   "execution_count": null,
   "outputs": [],
   "source": [
    "# device=torch.device(\"cpu\")\n"
   ],
   "metadata": {
    "collapsed": false,
    "ExecuteTime": {
     "start_time": "2023-08-29T19:51:24.026304Z",
     "end_time": "2023-08-29T19:51:24.028297Z"
    }
   }
  },
  {
   "cell_type": "code",
   "execution_count": null,
   "outputs": [],
   "source": [
    "from sklearn.preprocessing import MinMaxScaler\n",
    "scaler1=MinMaxScaler(feature_range=(0.00000001,1))\n",
    "scaler2=MinMaxScaler(feature_range=(0.00000001,1))\n",
    "scaler3=MinMaxScaler(feature_range=(0.00000001,1))\n",
    "scaler4=MinMaxScaler(feature_range=(0.00000001,1))\n",
    "train_sca=pd.DataFrame()\n",
    "test_sca=pd.DataFrame()\n",
    "train_sca[X_columns]=scaler1.fit_transform(train[X_columns])\n",
    "train_sca[Y_columns]=scaler2.fit_transform(train[Y_columns])\n",
    "test_sca[X_columns]=scaler3.fit_transform(test[X_columns])\n",
    "test_sca[Y_columns]=scaler4.fit_transform(test[Y_columns])\n",
    "\n",
    "\n",
    "x_train_ts = torch.from_numpy(np.float32(train_sca[X_columns])).to(device)\n",
    "y_train_ts = torch.from_numpy(np.float32(train_sca[Y_columns])).to(device)\n",
    "x_test_ts = torch.from_numpy(np.float32(test_sca[X_columns])).to(device)\n",
    "y_test_ts = torch.from_numpy(np.float32(test_sca[Y_columns])).to(device)\n"
   ],
   "metadata": {
    "collapsed": false,
    "ExecuteTime": {
     "start_time": "2023-08-29T19:51:24.031287Z",
     "end_time": "2023-08-29T19:51:24.167345Z"
    }
   }
  },
  {
   "cell_type": "code",
   "execution_count": null,
   "outputs": [],
   "source": [],
   "metadata": {
    "collapsed": false,
    "ExecuteTime": {
     "start_time": "2023-08-29T19:51:24.167345Z",
     "end_time": "2023-08-29T19:51:24.170331Z"
    }
   }
  },
  {
   "cell_type": "code",
   "execution_count": null,
   "outputs": [],
   "source": [
    "class DNNModel(nn.Module):\n",
    "    def __init__(self, input_dim, hidden_dim, output_dim):\n",
    "        super(DNNModel, self).__init__()\n",
    "\t\t#定义层\n",
    "        self.fc1 = nn.Linear(input_dim, hidden_dim)\n",
    "        self.sig1 = nn.Tanh() #nn.Linear为线性关系，加上激活函数转为非线性\n",
    "        self.drop1=nn.Dropout(p=0.5)\n",
    "\n",
    "        self.fc2 = nn.Linear(hidden_dim, hidden_dim)\n",
    "        self.sig2 = nn.Sigmoid()\n",
    "        self.drop2=nn.Dropout(p=0.5)\n",
    "\n",
    "        self.fc3 = nn.Linear(hidden_dim, output_dim)\n",
    "\n",
    "\n",
    "    def forward(self, x):\n",
    "        out = self.fc1(x)\n",
    "        out = self.sig1(out)\n",
    "        out = self.drop1(out)\n",
    "        out = self.fc2(out)\n",
    "        out = self.sig2(out)\n",
    "        out = self.drop2(out)\n",
    "        out = self.fc3(out)\n",
    "        return out\n",
    "\n",
    "\n"
   ],
   "metadata": {
    "collapsed": false,
    "ExecuteTime": {
     "start_time": "2023-08-29T19:51:24.172324Z",
     "end_time": "2023-08-29T19:51:24.174319Z"
    }
   }
  },
  {
   "cell_type": "code",
   "execution_count": null,
   "outputs": [],
   "source": [
    "input_dim = len(X_columns)   #一维向量长度\n",
    "hidden_dim = 16            #hidden layer 神经元个数\n",
    "output_dim = len(Y_columns)  #1个类\n",
    "batch_size=32\n",
    "\n",
    "\n",
    "#定义模型\n",
    "model = DNNModel(input_dim, hidden_dim, output_dim).to(device)\n",
    "# for name,parameters in model.named_parameters():\n",
    "#     print('name:{},param{}'.format(name,parameters))\n",
    "# print(model)"
   ],
   "metadata": {
    "collapsed": false,
    "ExecuteTime": {
     "start_time": "2023-08-29T19:51:24.176313Z",
     "end_time": "2023-08-29T19:51:24.184286Z"
    }
   }
  },
  {
   "cell_type": "code",
   "execution_count": null,
   "outputs": [],
   "source": [
    "#定义代价函数\n",
    "myloss = nn.MSELoss()     #均方差\n",
    "#定义优化器\n",
    "optimizer = optim.Adam(model.parameters(),lr=0.001)\n",
    "\n",
    "#轮数\n",
    "epochs =100\n",
    "\n",
    "\n",
    "\n",
    "import time\n",
    "start_time=time.time()\n"
   ],
   "metadata": {
    "collapsed": false,
    "ExecuteTime": {
     "start_time": "2023-08-29T19:51:24.185283Z",
     "end_time": "2023-08-29T19:51:24.186279Z"
    }
   }
  },
  {
   "cell_type": "code",
   "execution_count": null,
   "outputs": [],
   "source": [
    "from torch.utils import data\n",
    "torch_dataset = data.TensorDataset(x_train_ts, y_train_ts)\n",
    "train_iter=data.DataLoader(\n",
    "    dataset=torch_dataset,\n",
    "    batch_size=batch_size,\n",
    "    shuffle=False,\n",
    "    num_workers=0\n",
    ")\n",
    "\n",
    "from sklearn.metrics import mean_absolute_percentage_error\n",
    "lossmin=1\n",
    "# for epoch in range(epochs):\n",
    "#     for inx,(X, Y) in enumerate(train_iter):\n",
    "#\n",
    "#         Y_pred=model(X)\n",
    "#         loss =myloss(Y,Y_pred)\n",
    "#\n",
    "#\n",
    "#         #梯度清0\n",
    "#         optimizer.zero_grad()\n",
    "#         #计算梯度\n",
    "#         loss.backward()\n",
    "#         #修改权值\n",
    "#         optimizer.step()\n",
    "#\n",
    "#\n",
    "#         torch.cuda.empty_cache()\n",
    "#\n",
    "#\n",
    "#\n",
    "#\n",
    "#     test_index=test.index\n",
    "#     y_test_pred_ts = model(x_test_ts)\n",
    "#     y_test_pred = y_test_pred_ts.detach().cpu().numpy().reshape(-1,1)\n",
    "#     y_test_pred=scaler4.inverse_transform(y_test_pred)\n",
    "#     loss=mean_absolute_percentage_error(test[Y_columns],y_test_pred)\n",
    "#     print(f'*****************epoch{epoch} MAPE {loss}')\n",
    "#     if loss<1 and loss<lossmin:\n",
    "#         lossmin=loss\n",
    "#         torch.save(model.state_dict(),\"./mpkl/m10_dnn_.pkl\")\n",
    "\n",
    "\n",
    "\n",
    "# training_time=time.time()-start_time\n",
    "# print(f'training_time{training_time}')\n",
    "\n",
    "\n",
    "model.load_state_dict(torch.load(\"./mpkl/m10_dnn_.pkl\"))\n",
    "\n",
    "\n",
    "\n",
    "train_index=train.index\n",
    "y_train_pred_ts = model(x_train_ts)\n",
    "y_train_pred = y_train_pred_ts.detach().cpu().numpy().reshape(-1,1)\n",
    "y_train_pred=scaler2.inverse_transform(y_train_pred)\n",
    "y_train_pred=pd.DataFrame(columns=['AQ'],data=y_train_pred)\n",
    "\n",
    "test_index=test.index\n",
    "y_test_pred_ts = model(x_test_ts)\n",
    "y_test_pred = y_test_pred_ts.detach().cpu().numpy().reshape(-1,1)\n",
    "y_test_pred=scaler4.inverse_transform(y_test_pred)\n",
    "y_test_pred=pd.DataFrame(columns=['AQ'],data=y_test_pred)\n",
    "print(f'***************************************************')\n",
    "loss=mean_absolute_percentage_error(test[Y_columns],y_test_pred)\n",
    "print('MAPE:', loss)\n",
    "\n",
    "\n"
   ],
   "metadata": {
    "collapsed": false,
    "ExecuteTime": {
     "start_time": "2023-08-29T19:51:24.189776Z",
     "end_time": "2023-08-29T19:51:27.390051Z"
    }
   }
  },
  {
   "cell_type": "code",
   "execution_count": null,
   "outputs": [],
   "source": [
    "import seaborn as sns\n",
    "sns.set(context='paper', style='ticks')\n",
    "\n",
    "fig,axes=plt.subplots(2,1,figsize=(20,10))\n",
    "ax1=axes[0]\n",
    "ax2=axes[1]\n",
    "fig.subplots_adjust(left=0.1, right=0.8, bottom=0.1, top=0.9, wspace=0.2, hspace=0.3)\n",
    "\n",
    "\n",
    "# x=train_index[::32]\n",
    "# y1=y_train['AQ'][::32]\n",
    "# y2=y_train_pred['AQ'][::32]\n",
    "lns1=ax1.plot(y_train[:],label='y_train',marker='v',markevery=1, color='lightcoral')\n",
    "lns2=ax1.plot(y_train_pred[:],label='y_train_pred',marker='D',markevery=1, color='dodgerblue')\n",
    "ax1.tick_params(labelsize=12)\n",
    "# ax1.set_xlim(0,14208,2000)\n",
    "# ax1.set_ylim(0,35000, 5000)\n",
    "# ax1.set_xlabel('Timeindex(8h)',size=20)\n",
    "# ax1.set_ylabel('AQ(m³/h)',size=20)\n",
    "ax1.set_title('m1_ridge',size=20,fontweight='bold',loc='left')\n",
    "lns = lns1+lns2\n",
    "labs = [l.get_label() for l in lns]\n",
    "ax1.legend(lns, labs, loc=1,fontsize=12,ncol=2,frameon=False)\n",
    "\n",
    "\n",
    "\n",
    "lns1=ax2.plot(y_test[:],label='y_test',marker='v',markevery=1, color='lightcoral')\n",
    "lns2=ax2.plot(y_test_pred[:],label='y_test_pred',marker='D',markevery=1, color='dodgerblue')\n",
    "ax2.tick_params(labelsize=12)\n",
    "# ax1.set_xlim(0,14208,2000)\n",
    "# ax1.set_ylim(0,35000, 5000)\n",
    "# ax1.set_xlabel('Timeindex(8h)',size=20)\n",
    "# ax1.set_ylabel('AQ(m³/h)',size=20)\n",
    "ax2.set_title('m1_ridge',size=20,fontweight='bold',loc='left')\n",
    "lns = lns1+lns2\n",
    "labs = [l.get_label() for l in lns]\n",
    "ax2.legend(lns, labs, loc=1,fontsize=12,ncol=2,frameon=False)"
   ],
   "metadata": {
    "collapsed": false,
    "ExecuteTime": {
     "start_time": "2023-08-29T19:51:27.396537Z",
     "end_time": "2023-08-29T19:51:27.692687Z"
    }
   }
  },
  {
   "cell_type": "code",
   "execution_count": null,
   "outputs": [],
   "source": [
    "frame=pd.DataFrame()\n",
    "frame['ytrain']=y_train_pred\n",
    "frame['ytest']=y_test_pred\n",
    "frame.to_excel('./modelresult/m10_dnn.xlsx')"
   ],
   "metadata": {
    "collapsed": false,
    "ExecuteTime": {
     "start_time": "2023-08-29T19:51:27.692687Z",
     "end_time": "2023-08-29T19:51:27.992786Z"
    }
   }
  },
  {
   "cell_type": "code",
   "execution_count": null,
   "outputs": [],
   "source": [
    "\n"
   ],
   "metadata": {
    "collapsed": false,
    "ExecuteTime": {
     "start_time": "2023-08-29T19:51:27.992786Z",
     "end_time": "2023-08-29T19:51:27.996279Z"
    }
   }
  },
  {
   "cell_type": "code",
   "execution_count": null,
   "outputs": [],
   "source": [],
   "metadata": {
    "collapsed": false,
    "ExecuteTime": {
     "start_time": "2023-08-29T19:51:27.996279Z",
     "end_time": "2023-08-29T19:51:27.998272Z"
    }
   }
  },
  {
   "cell_type": "code",
   "execution_count": null,
   "outputs": [],
   "source": [],
   "metadata": {
    "collapsed": false,
    "ExecuteTime": {
     "start_time": "2023-08-29T19:51:27.999269Z",
     "end_time": "2023-08-29T19:51:28.002259Z"
    }
   }
  }
 ],
 "metadata": {
  "kernelspec": {
   "display_name": "Python 3",
   "language": "python",
   "name": "python3"
  },
  "language_info": {
   "codemirror_mode": {
    "name": "ipython",
    "version": 2
   },
   "file_extension": ".py",
   "mimetype": "text/x-python",
   "name": "python",
   "nbconvert_exporter": "python",
   "pygments_lexer": "ipython2",
   "version": "2.7.6"
  }
 },
 "nbformat": 4,
 "nbformat_minor": 0
}
